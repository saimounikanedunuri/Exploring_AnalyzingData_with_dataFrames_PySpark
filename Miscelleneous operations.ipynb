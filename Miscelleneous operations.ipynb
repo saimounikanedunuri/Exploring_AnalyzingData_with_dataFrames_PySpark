{
 "cells": [
  {
   "cell_type": "code",
   "execution_count": 1,
   "id": "4ca1ac47",
   "metadata": {},
   "outputs": [],
   "source": [
    "import findspark\n",
    "\n",
    "findspark.init()"
   ]
  },
  {
   "cell_type": "code",
   "execution_count": 2,
   "id": "e7537c82",
   "metadata": {},
   "outputs": [],
   "source": [
    "from pyspark.sql import SparkSession"
   ]
  },
  {
   "cell_type": "code",
   "execution_count": 3,
   "id": "e2cd7707",
   "metadata": {},
   "outputs": [],
   "source": [
    "from pyspark.accumulators import AccumulatorParam"
   ]
  },
  {
   "cell_type": "code",
   "execution_count": 4,
   "id": "136d9775",
   "metadata": {},
   "outputs": [],
   "source": [
    "class VectorAccumulatorParam(AccumulatorParam):\n",
    "    def zero(self, value): #initialize the accumulator when first created\n",
    "        return [0.0]*len(value)\n",
    "    def addInPlace(self,v1,v2): #add to the current accumulated vector values\n",
    "        for i in range(len(v1)):\n",
    "            v1[i]+=v2[i]\n",
    "        return v1"
   ]
  },
  {
   "cell_type": "code",
   "execution_count": 9,
   "id": "3f313c53",
   "metadata": {},
   "outputs": [],
   "source": [
    "from pyspark.sql.types import Row\n",
    "from datetime import datetime"
   ]
  },
  {
   "cell_type": "code",
   "execution_count": 10,
   "id": "ab5bef4a",
   "metadata": {},
   "outputs": [
    {
     "name": "stdout",
     "output_type": "stream",
     "text": [
      "+-----+\n",
      "|hello|\n",
      "+-----+\n",
      "|spark|\n",
      "+-----+\n",
      "\n"
     ]
    }
   ],
   "source": [
    "import pyspark\n",
    "\n",
    "from pyspark.sql import SparkSession\n",
    "\n",
    "spark = SparkSession.builder.getOrCreate()\n",
    "\n",
    "df = spark.sql(\"select 'spark' as hello \")\n",
    "\n",
    "df.show()"
   ]
  },
  {
   "cell_type": "code",
   "execution_count": 11,
   "id": "6096ee36",
   "metadata": {},
   "outputs": [
    {
     "name": "stdout",
     "output_type": "stream",
     "text": [
      "+---+----------------+-----+\n",
      "| id|         address| Name|\n",
      "+---+----------------+-----+\n",
      "|  1|15851 Jeffrey Rd|Alice|\n",
      "|  2|      Jeffrey Rd|  Bob|\n",
      "|  3|        1311 Ave|   CA|\n",
      "+---+----------------+-----+\n",
      "\n"
     ]
    }
   ],
   "source": [
    "from pyspark.sql import SparkSession\n",
    "spark = SparkSession.builder.master(\"local[1]\").appName(\"SparkByExample.com\").getOrCreate()\n",
    "address = [(1,\"15851 Jeffrey Rd\", \"Alice\"),\n",
    "          (2,\"Jeffrey Rd\", \"Bob\"),\n",
    "          (3,\"1311 Ave\", \"CA\")]\n",
    "df = spark.createDataFrame(address,[\"id\",\"address\",\"Name\"])\n",
    "df.show()"
   ]
  },
  {
   "cell_type": "code",
   "execution_count": 12,
   "id": "a00ed85c",
   "metadata": {},
   "outputs": [
    {
     "name": "stdout",
     "output_type": "stream",
     "text": [
      "+---+-------+------+\n",
      "| id|   name|source|\n",
      "+---+-------+------+\n",
      "|  1|  Alice|  ngdb|\n",
      "|  2|    bod|   jhg|\n",
      "|  3|    sgf|   kjy|\n",
      "| 45|   drfv|   jgf|\n",
      "|  5|    hsr|   gfd|\n",
      "|  6|    hfb|    fd|\n",
      "|  7| hdfbgc|     h|\n",
      "|  8|    jdg|   the|\n",
      "|  9|jjegfdb|    hy|\n",
      "| 10|   jdcg|   hfd|\n",
      "+---+-------+------+\n",
      "\n"
     ]
    }
   ],
   "source": [
    "from pyspark import *\n",
    "from pyspark.sql import SparkSession, Row\n",
    "import pyspark.sql.functions as f\n",
    "# from pysaprk.sql.functions\n",
    "spark = SparkSession.builder.appName('pyspark - example read csv').getOrCreate()\n",
    "sc  = spark.sparkContext\n",
    "df = spark.read.option(\"header\",True).csv(r\"C:\\Users\\sanedunu\\Desktop\\demo.csv\")\n",
    "df.show()"
   ]
  },
  {
   "cell_type": "code",
   "execution_count": 13,
   "id": "a9de4e5f",
   "metadata": {},
   "outputs": [
    {
     "data": {
      "text/html": [
       "\n",
       "        <div>\n",
       "            <p><b>SparkContext</b></p>\n",
       "\n",
       "            <p><a href=\"http://LIN25007288.corp.capgemini.com:4041\">Spark UI</a></p>\n",
       "\n",
       "            <dl>\n",
       "              <dt>Version</dt>\n",
       "                <dd><code>v3.2.0</code></dd>\n",
       "              <dt>Master</dt>\n",
       "                <dd><code>local[*]</code></dd>\n",
       "              <dt>AppName</dt>\n",
       "                <dd><code>pyspark-shell</code></dd>\n",
       "            </dl>\n",
       "        </div>\n",
       "        "
      ],
      "text/plain": [
       "<SparkContext master=local[*] appName=pyspark-shell>"
      ]
     },
     "execution_count": 13,
     "metadata": {},
     "output_type": "execute_result"
    }
   ],
   "source": [
    "sc"
   ]
  },
  {
   "cell_type": "code",
   "execution_count": 14,
   "id": "647544a8",
   "metadata": {},
   "outputs": [
    {
     "data": {
      "text/plain": [
       "[10.0, 20.0, 30.0]"
      ]
     },
     "execution_count": 14,
     "metadata": {},
     "output_type": "execute_result"
    }
   ],
   "source": [
    "vector_accum=sc.accumulator([10.0,20.0,30.0],VectorAccumulatorParam())\n",
    "vector_accum.value"
   ]
  },
  {
   "cell_type": "code",
   "execution_count": 15,
   "id": "d4aa59c1",
   "metadata": {},
   "outputs": [
    {
     "data": {
      "text/plain": [
       "[11.0, 22.0, 33.0]"
      ]
     },
     "execution_count": 15,
     "metadata": {},
     "output_type": "execute_result"
    }
   ],
   "source": [
    "vector_accum+=[1,2,3]\n",
    "vector_accum.value"
   ]
  },
  {
   "cell_type": "code",
   "execution_count": 17,
   "id": "165a6460",
   "metadata": {},
   "outputs": [],
   "source": [
    "#working on joins\n",
    "valuesA=[('John',100000),('James',150000),('Emily',65000),('Nina',200000)]\n",
    "tableA=spark.createDataFrame(valuesA,['name','salary'])"
   ]
  },
  {
   "cell_type": "code",
   "execution_count": 18,
   "id": "a3e1a815",
   "metadata": {},
   "outputs": [
    {
     "name": "stdout",
     "output_type": "stream",
     "text": [
      "+-----+------+\n",
      "| name|salary|\n",
      "+-----+------+\n",
      "| John|100000|\n",
      "|James|150000|\n",
      "|Emily| 65000|\n",
      "| Nina|200000|\n",
      "+-----+------+\n",
      "\n"
     ]
    }
   ],
   "source": [
    "tableA.show()"
   ]
  },
  {
   "cell_type": "code",
   "execution_count": 19,
   "id": "4ee9930c",
   "metadata": {},
   "outputs": [],
   "source": [
    "valuesB=[('James',2),('Emily',3),('Darth Vader',5),('Princess Leia',6)]\n",
    "tableB=spark.createDataFrame(valuesB,['name','employee_id'])"
   ]
  },
  {
   "cell_type": "code",
   "execution_count": 20,
   "id": "fc0e1812",
   "metadata": {},
   "outputs": [
    {
     "name": "stdout",
     "output_type": "stream",
     "text": [
      "+-------------+-----------+\n",
      "|         name|employee_id|\n",
      "+-------------+-----------+\n",
      "|        James|          2|\n",
      "|        Emily|          3|\n",
      "|  Darth Vader|          5|\n",
      "|Princess Leia|          6|\n",
      "+-------------+-----------+\n",
      "\n"
     ]
    }
   ],
   "source": [
    "tableB.show()"
   ]
  },
  {
   "cell_type": "code",
   "execution_count": 22,
   "id": "fb148f28",
   "metadata": {},
   "outputs": [
    {
     "name": "stdout",
     "output_type": "stream",
     "text": [
      "+-----+------+-----+-----------+\n",
      "| name|salary| name|employee_id|\n",
      "+-----+------+-----+-----------+\n",
      "|Emily| 65000|Emily|          3|\n",
      "|James|150000|James|          2|\n",
      "+-----+------+-----+-----------+\n",
      "\n"
     ]
    }
   ],
   "source": [
    "inner_join=tableA.join(tableB,tableA.name==tableB.name)\n",
    "inner_join.show()"
   ]
  },
  {
   "cell_type": "code",
   "execution_count": 26,
   "id": "c323c53b",
   "metadata": {},
   "outputs": [
    {
     "name": "stdout",
     "output_type": "stream",
     "text": [
      "+-----+------+-----+-----------+\n",
      "| name|salary| name|employee_id|\n",
      "+-----+------+-----+-----------+\n",
      "|Emily| 65000|Emily|          3|\n",
      "|James|150000|James|          2|\n",
      "| John|100000| null|       null|\n",
      "| Nina|200000| null|       null|\n",
      "+-----+------+-----+-----------+\n",
      "\n"
     ]
    }
   ],
   "source": [
    "left_join=tableA.join(tableB,tableA.name==tableB.name,how='left')\n",
    "left_join.show()"
   ]
  },
  {
   "cell_type": "code",
   "execution_count": 27,
   "id": "ed3314a6",
   "metadata": {},
   "outputs": [
    {
     "name": "stdout",
     "output_type": "stream",
     "text": [
      "+-----+------+-------------+-----------+\n",
      "| name|salary|         name|employee_id|\n",
      "+-----+------+-------------+-----------+\n",
      "| null|  null|  Darth Vader|          5|\n",
      "|Emily| 65000|        Emily|          3|\n",
      "|James|150000|        James|          2|\n",
      "| null|  null|Princess Leia|          6|\n",
      "+-----+------+-------------+-----------+\n",
      "\n"
     ]
    }
   ],
   "source": [
    "right_join=tableA.join(tableB,tableA.name==tableB.name,how='right')\n",
    "right_join.show()"
   ]
  },
  {
   "cell_type": "code",
   "execution_count": 28,
   "id": "cfa4d1f1",
   "metadata": {},
   "outputs": [
    {
     "name": "stdout",
     "output_type": "stream",
     "text": [
      "+-----+------+-------------+-----------+\n",
      "| name|salary|         name|employee_id|\n",
      "+-----+------+-------------+-----------+\n",
      "| null|  null|  Darth Vader|          5|\n",
      "|Emily| 65000|        Emily|          3|\n",
      "|James|150000|        James|          2|\n",
      "| John|100000|         null|       null|\n",
      "| Nina|200000|         null|       null|\n",
      "| null|  null|Princess Leia|          6|\n",
      "+-----+------+-------------+-----------+\n",
      "\n"
     ]
    }
   ],
   "source": [
    "full_outer_join=tableA.join(tableB,tableA.name==tableB.name,how='full')\n",
    "full_outer_join.show()"
   ]
  },
  {
   "cell_type": "code",
   "execution_count": null,
   "id": "25cd5fc7",
   "metadata": {},
   "outputs": [],
   "source": []
  }
 ],
 "metadata": {
  "kernelspec": {
   "display_name": "Python 3 (ipykernel)",
   "language": "python",
   "name": "python3"
  },
  "language_info": {
   "codemirror_mode": {
    "name": "ipython",
    "version": 3
   },
   "file_extension": ".py",
   "mimetype": "text/x-python",
   "name": "python",
   "nbconvert_exporter": "python",
   "pygments_lexer": "ipython3",
   "version": "3.9.7"
  }
 },
 "nbformat": 4,
 "nbformat_minor": 5
}
