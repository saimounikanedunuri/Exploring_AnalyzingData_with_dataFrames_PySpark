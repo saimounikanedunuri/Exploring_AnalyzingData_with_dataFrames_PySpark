{
 "cells": [
  {
   "cell_type": "code",
   "execution_count": 1,
   "id": "b66db1a3",
   "metadata": {},
   "outputs": [],
   "source": [
    "import findspark\n",
    "\n",
    "findspark.init()"
   ]
  },
  {
   "cell_type": "code",
   "execution_count": 2,
   "id": "a02422de",
   "metadata": {},
   "outputs": [],
   "source": [
    "from pyspark.sql import SparkSession"
   ]
  },
  {
   "cell_type": "code",
   "execution_count": 3,
   "id": "51b74a55",
   "metadata": {},
   "outputs": [],
   "source": [
    "spark=SparkSession.builder\\\n",
    "                    .appName(\"Analyzing airline data\")\\\n",
    "                    .getOrCreate()"
   ]
  },
  {
   "cell_type": "code",
   "execution_count": 4,
   "id": "50cf37f7",
   "metadata": {},
   "outputs": [],
   "source": [
    "from pyspark.sql.types import Row\n",
    "from datetime import datetime"
   ]
  },
  {
   "cell_type": "code",
   "execution_count": 5,
   "id": "d4702e4b",
   "metadata": {},
   "outputs": [
    {
     "name": "stdout",
     "output_type": "stream",
     "text": [
      "+-----+\n",
      "|hello|\n",
      "+-----+\n",
      "|spark|\n",
      "+-----+\n",
      "\n"
     ]
    }
   ],
   "source": [
    "import pyspark\n",
    "\n",
    "from pyspark.sql import SparkSession\n",
    "\n",
    "spark = SparkSession.builder.getOrCreate()\n",
    "\n",
    "df = spark.sql(\"select 'spark' as hello \")\n",
    "\n",
    "df.show()"
   ]
  },
  {
   "cell_type": "code",
   "execution_count": 6,
   "id": "f21474bc",
   "metadata": {},
   "outputs": [
    {
     "name": "stdout",
     "output_type": "stream",
     "text": [
      "+---+----------------+-----+\n",
      "| id|         address| Name|\n",
      "+---+----------------+-----+\n",
      "|  1|15851 Jeffrey Rd|Alice|\n",
      "|  2|      Jeffrey Rd|  Bob|\n",
      "|  3|        1311 Ave|   CA|\n",
      "+---+----------------+-----+\n",
      "\n"
     ]
    }
   ],
   "source": [
    "from pyspark.sql import SparkSession\n",
    "spark = SparkSession.builder.master(\"local[1]\").appName(\"SparkByExample.com\").getOrCreate()\n",
    "address = [(1,\"15851 Jeffrey Rd\", \"Alice\"),\n",
    "          (2,\"Jeffrey Rd\", \"Bob\"),\n",
    "          (3,\"1311 Ave\", \"CA\")]\n",
    "df = spark.createDataFrame(address,[\"id\",\"address\",\"Name\"])\n",
    "df.show()"
   ]
  },
  {
   "cell_type": "code",
   "execution_count": 7,
   "id": "f446172d",
   "metadata": {},
   "outputs": [
    {
     "name": "stdout",
     "output_type": "stream",
     "text": [
      "+---+-------+------+\n",
      "| id|   name|source|\n",
      "+---+-------+------+\n",
      "|  1|  Alice|  ngdb|\n",
      "|  2|    bod|   jhg|\n",
      "|  3|    sgf|   kjy|\n",
      "| 45|   drfv|   jgf|\n",
      "|  5|    hsr|   gfd|\n",
      "|  6|    hfb|    fd|\n",
      "|  7| hdfbgc|     h|\n",
      "|  8|    jdg|   the|\n",
      "|  9|jjegfdb|    hy|\n",
      "| 10|   jdcg|   hfd|\n",
      "+---+-------+------+\n",
      "\n"
     ]
    }
   ],
   "source": [
    "from pyspark import *\n",
    "from pyspark.sql import SparkSession, Row\n",
    "import pyspark.sql.functions as f\n",
    "# from pysaprk.sql.functions\n",
    "spark = SparkSession.builder.appName('pyspark - example read csv').getOrCreate()\n",
    "sc  = spark.sparkContext\n",
    "df = spark.read.option(\"header\",True).csv(r\"C:\\Users\\sanedunu\\Desktop\\demo.csv\")\n",
    "df.show()"
   ]
  },
  {
   "cell_type": "code",
   "execution_count": 8,
   "id": "47a1b467",
   "metadata": {},
   "outputs": [
    {
     "data": {
      "text/html": [
       "\n",
       "        <div>\n",
       "            <p><b>SparkContext</b></p>\n",
       "\n",
       "            <p><a href=\"http://LIN25007288.corp.capgemini.com:4040\">Spark UI</a></p>\n",
       "\n",
       "            <dl>\n",
       "              <dt>Version</dt>\n",
       "                <dd><code>v3.2.0</code></dd>\n",
       "              <dt>Master</dt>\n",
       "                <dd><code>local[*]</code></dd>\n",
       "              <dt>AppName</dt>\n",
       "                <dd><code>Analyzing airline data</code></dd>\n",
       "            </dl>\n",
       "        </div>\n",
       "        "
      ],
      "text/plain": [
       "<SparkContext master=local[*] appName=Analyzing airline data>"
      ]
     },
     "execution_count": 8,
     "metadata": {},
     "output_type": "execute_result"
    }
   ],
   "source": [
    "sc"
   ]
  },
  {
   "cell_type": "code",
   "execution_count": 12,
   "id": "ee966e45",
   "metadata": {},
   "outputs": [],
   "source": [
    "record=sc.parallelize([Row(id=1,\n",
    "                            name=\"Jill\",\n",
    "                            clubs=['chess','hockey'],\n",
    "                            subjects={\"math\":80,'english':56},\n",
    "                            enrolled=datetime(2014,8,1,14,1,5)),\n",
    "                      Row(id=2,\n",
    "                         active=False,\n",
    "                         clubs=['chess','soccer'],\n",
    "                         subjects={\"math\":60,'english':96},\n",
    "                         enrolled=datetime(2015,3,21,8,2,5))\n",
    "                      ])"
   ]
  },
  {
   "cell_type": "code",
   "execution_count": 13,
   "id": "e4790efd",
   "metadata": {},
   "outputs": [
    {
     "name": "stdout",
     "output_type": "stream",
     "text": [
      "+---+-----+---------------+--------------------+-------------------+\n",
      "| id| name|          clubs|            subjects|           enrolled|\n",
      "+---+-----+---------------+--------------------+-------------------+\n",
      "|  1| Jill|[chess, hockey]|{english -> 56, m...|2014-08-01 14:01:05|\n",
      "|  2|false|[chess, soccer]|{english -> 96, m...|2015-03-21 08:02:05|\n",
      "+---+-----+---------------+--------------------+-------------------+\n",
      "\n"
     ]
    }
   ],
   "source": [
    "record_df=record.toDF()\n",
    "record_df.show()"
   ]
  },
  {
   "cell_type": "code",
   "execution_count": 14,
   "id": "3150fc48",
   "metadata": {},
   "outputs": [],
   "source": [
    "#register the DataFrame as a table\n",
    "record_df.createOrReplaceTempView(\"records\")\n",
    "#createOrReplaceTempView => the table is per-session, not shared across Spark sessions"
   ]
  },
  {
   "cell_type": "code",
   "execution_count": 18,
   "id": "e94c99cd",
   "metadata": {
    "scrolled": true
   },
   "outputs": [
    {
     "name": "stderr",
     "output_type": "stream",
     "text": [
      "C:\\Spark\\spark-3.2.0-bin-hadoop3.2\\python\\pyspark\\sql\\context.py:77: FutureWarning: Deprecated in 3.0.0. Use SparkSession.builder.getOrCreate() instead.\n",
      "  warnings.warn(\n"
     ]
    },
    {
     "name": "stdout",
     "output_type": "stream",
     "text": [
      "+---+-----+---------------+--------------------+-------------------+\n",
      "| id| name|          clubs|            subjects|           enrolled|\n",
      "+---+-----+---------------+--------------------+-------------------+\n",
      "|  1| Jill|[chess, hockey]|{english -> 56, m...|2014-08-01 14:01:05|\n",
      "|  2|false|[chess, soccer]|{english -> 96, m...|2015-03-21 08:02:05|\n",
      "+---+-----+---------------+--------------------+-------------------+\n",
      "\n"
     ]
    }
   ],
   "source": [
    "from pyspark.sql import SQLContext\n",
    "sqlContext = SQLContext(sc)\n",
    "all_records_df=sqlContext.sql('SELECT * FROM records')\n",
    "all_records_df.show() #SQL queries return the result as a dataframe"
   ]
  },
  {
   "cell_type": "code",
   "execution_count": 19,
   "id": "4b930423",
   "metadata": {},
   "outputs": [
    {
     "name": "stdout",
     "output_type": "stream",
     "text": [
      "+---+--------+-----------------+\n",
      "| id|clubs[1]|subjects[english]|\n",
      "+---+--------+-----------------+\n",
      "|  1|  hockey|               56|\n",
      "|  2|  soccer|               96|\n",
      "+---+--------+-----------------+\n",
      "\n"
     ]
    }
   ],
   "source": [
    "sqlContext.sql('SELECT id,clubs[1],subjects[\"english\"] FROM records').show()"
   ]
  },
  {
   "cell_type": "code",
   "execution_count": 22,
   "id": "e5bb6d26",
   "metadata": {},
   "outputs": [
    {
     "name": "stdout",
     "output_type": "stream",
     "text": [
      "+---+-----+---------------+--------------------+-------------------+\n",
      "| id| name|          clubs|            subjects|           enrolled|\n",
      "+---+-----+---------------+--------------------+-------------------+\n",
      "|  2|false|[chess, soccer]|{english -> 96, m...|2015-03-21 08:02:05|\n",
      "+---+-----+---------------+--------------------+-------------------+\n",
      "\n"
     ]
    }
   ],
   "source": [
    "sqlContext.sql('SELECT * FROM records where subjects[\"english\"]>90').show()"
   ]
  },
  {
   "cell_type": "code",
   "execution_count": 24,
   "id": "3ea4555b",
   "metadata": {},
   "outputs": [],
   "source": [
    "#register the table so it is accessible across all Spark sessions\n",
    "record_df.createGlobalTempView(\"global_records\")"
   ]
  },
  {
   "cell_type": "code",
   "execution_count": 25,
   "id": "67e113ac",
   "metadata": {},
   "outputs": [
    {
     "name": "stdout",
     "output_type": "stream",
     "text": [
      "+---+-----+---------------+--------------------+-------------------+\n",
      "| id| name|          clubs|            subjects|           enrolled|\n",
      "+---+-----+---------------+--------------------+-------------------+\n",
      "|  1| Jill|[chess, hockey]|{english -> 56, m...|2014-08-01 14:01:05|\n",
      "|  2|false|[chess, soccer]|{english -> 96, m...|2015-03-21 08:02:05|\n",
      "+---+-----+---------------+--------------------+-------------------+\n",
      "\n"
     ]
    }
   ],
   "source": [
    "sqlContext.sql('SELECT * FROM global_temp.global_records').show()"
   ]
  }
 ],
 "metadata": {
  "kernelspec": {
   "display_name": "Python 3 (ipykernel)",
   "language": "python",
   "name": "python3"
  },
  "language_info": {
   "codemirror_mode": {
    "name": "ipython",
    "version": 3
   },
   "file_extension": ".py",
   "mimetype": "text/x-python",
   "name": "python",
   "nbconvert_exporter": "python",
   "pygments_lexer": "ipython3",
   "version": "3.9.7"
  }
 },
 "nbformat": 4,
 "nbformat_minor": 5
}
