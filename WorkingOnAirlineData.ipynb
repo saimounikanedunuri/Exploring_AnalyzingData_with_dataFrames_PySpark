{
 "cells": [
  {
   "cell_type": "code",
   "execution_count": 1,
   "id": "5b0e2286",
   "metadata": {},
   "outputs": [],
   "source": [
    "import findspark\n",
    "\n",
    "findspark.init()"
   ]
  },
  {
   "cell_type": "code",
   "execution_count": 2,
   "id": "9467c086",
   "metadata": {},
   "outputs": [],
   "source": [
    "from pyspark.sql import SparkSession"
   ]
  },
  {
   "cell_type": "code",
   "execution_count": 3,
   "id": "e193ffca",
   "metadata": {},
   "outputs": [],
   "source": [
    "spark=SparkSession.builder\\\n",
    "                    .appName(\"Analyzing London crime data\")\\\n",
    "                    .getOrCreate()"
   ]
  },
  {
   "cell_type": "code",
   "execution_count": 9,
   "id": "9103bded",
   "metadata": {},
   "outputs": [],
   "source": [
    "airlines=spark.read\\\n",
    "            .format(\"csv\")\\\n",
    "            .option(\"header\",\"true\")\\\n",
    "            .load(r\"C:\\Users\\sanedunu\\Downloads\\PySpark\\demo2/airlines.csv\")\n",
    "flights=spark.read\\\n",
    "            .format(\"csv\")\\\n",
    "            .option(\"header\",\"true\")\\\n",
    "            .load(r\"C:\\Users\\sanedunu\\Downloads\\PySpark\\demo2/flights.csv\")\n",
    "airports=spark.read\\\n",
    "            .format(\"csv\")\\\n",
    "            .option(\"header\",\"true\")\\\n",
    "            .load(r\"C:\\Users\\sanedunu\\Downloads\\PySpark\\demo2/airports.csv\")"
   ]
  },
  {
   "cell_type": "code",
   "execution_count": 10,
   "id": "71e3b14d",
   "metadata": {},
   "outputs": [],
   "source": [
    "airlines.createOrReplaceTempView(\"airlines\")"
   ]
  },
  {
   "cell_type": "code",
   "execution_count": 11,
   "id": "2e6d4348",
   "metadata": {},
   "outputs": [
    {
     "data": {
      "text/plain": [
       "['Code', 'Description']"
      ]
     },
     "execution_count": 11,
     "metadata": {},
     "output_type": "execute_result"
    }
   ],
   "source": [
    "airlines=spark.sql(\"SELECT * FROM airlines\")\n",
    "airlines.columns"
   ]
  },
  {
   "cell_type": "code",
   "execution_count": 13,
   "id": "4b9ef055",
   "metadata": {},
   "outputs": [
    {
     "name": "stdout",
     "output_type": "stream",
     "text": [
      "+-----+--------------------+\n",
      "| Code|         Description|\n",
      "+-----+--------------------+\n",
      "|19031|Mackey Internatio...|\n",
      "|19032|Munz Northern Air...|\n",
      "|19033|Cochise Airlines ...|\n",
      "|19034|Golden Gate Airli...|\n",
      "|19035|  Aeromech Inc.: RZZ|\n",
      "+-----+--------------------+\n",
      "only showing top 5 rows\n",
      "\n"
     ]
    }
   ],
   "source": [
    "airlines.show(5)"
   ]
  },
  {
   "cell_type": "code",
   "execution_count": 14,
   "id": "19d69e34",
   "metadata": {},
   "outputs": [
    {
     "data": {
      "text/plain": [
       "['date',\n",
       " 'airlines',\n",
       " 'flight_number',\n",
       " 'origin',\n",
       " 'destination',\n",
       " 'departure',\n",
       " 'departure_delay',\n",
       " 'arrival',\n",
       " 'arrival_delay',\n",
       " 'air_time',\n",
       " 'distance']"
      ]
     },
     "execution_count": 14,
     "metadata": {},
     "output_type": "execute_result"
    }
   ],
   "source": [
    "flights.createOrReplaceTempView(\"flights\")\n",
    "flights.columns"
   ]
  },
  {
   "cell_type": "code",
   "execution_count": 15,
   "id": "a68f2092",
   "metadata": {},
   "outputs": [
    {
     "name": "stdout",
     "output_type": "stream",
     "text": [
      "+----------+--------+-------------+------+-----------+---------+---------------+-------+-------------+--------+--------+\n",
      "|      date|airlines|flight_number|origin|destination|departure|departure_delay|arrival|arrival_delay|air_time|distance|\n",
      "+----------+--------+-------------+------+-----------+---------+---------------+-------+-------------+--------+--------+\n",
      "|2014-04-01|   19805|            1|   JFK|        LAX|     0854|          -6.00|   1217|         2.00|  355.00| 2475.00|\n",
      "|2014-04-01|   19805|            2|   LAX|        JFK|     0944|          14.00|   1736|       -29.00|  269.00| 2475.00|\n",
      "|2014-04-01|   19805|            3|   JFK|        LAX|     1224|          -6.00|   1614|        39.00|  371.00| 2475.00|\n",
      "|2014-04-01|   19805|            4|   LAX|        JFK|     1240|          25.00|   2028|       -27.00|  264.00| 2475.00|\n",
      "|2014-04-01|   19805|            5|   DFW|        HNL|     1300|          -5.00|   1650|        15.00|  510.00| 3784.00|\n",
      "+----------+--------+-------------+------+-----------+---------+---------------+-------+-------------+--------+--------+\n",
      "only showing top 5 rows\n",
      "\n"
     ]
    }
   ],
   "source": [
    "flights.show(5)"
   ]
  },
  {
   "cell_type": "code",
   "execution_count": 16,
   "id": "a1d4427b",
   "metadata": {},
   "outputs": [
    {
     "data": {
      "text/plain": [
       "(476881, 1579)"
      ]
     },
     "execution_count": 16,
     "metadata": {},
     "output_type": "execute_result"
    }
   ],
   "source": [
    "flights.count(),airlines.count()"
   ]
  },
  {
   "cell_type": "code",
   "execution_count": 17,
   "id": "a2a2643f",
   "metadata": {},
   "outputs": [],
   "source": [
    "flights_count=spark.sql(\"SELECT COUNT(*) FROM flights\")\n",
    "airlines_count=spark.sql(\"SELECT COUNT(*) FROM airlines\")"
   ]
  },
  {
   "cell_type": "code",
   "execution_count": 18,
   "id": "c7ee946e",
   "metadata": {},
   "outputs": [
    {
     "data": {
      "text/plain": [
       "(DataFrame[count(1): bigint], DataFrame[count(1): bigint])"
      ]
     },
     "execution_count": 18,
     "metadata": {},
     "output_type": "execute_result"
    }
   ],
   "source": [
    "flights_count, airlines_count"
   ]
  },
  {
   "cell_type": "code",
   "execution_count": 19,
   "id": "2e1351b1",
   "metadata": {},
   "outputs": [
    {
     "data": {
      "text/plain": [
       "(476881, 1579)"
      ]
     },
     "execution_count": 19,
     "metadata": {},
     "output_type": "execute_result"
    }
   ],
   "source": [
    "flights_count.collect()[0][0],airlines_count.collect()[0][0]"
   ]
  },
  {
   "cell_type": "code",
   "execution_count": 22,
   "id": "60d5b0c6",
   "metadata": {},
   "outputs": [],
   "source": [
    "total_distance_df=spark.sql(\"SELECT distance FROM flights\")\\\n",
    "                        .agg({\"distance\":\"sum\"})\\\n",
    "                        .withColumnRenamed(\"sum(distance)\",\"total_distance\")"
   ]
  },
  {
   "cell_type": "code",
   "execution_count": 23,
   "id": "4a9f2324",
   "metadata": {},
   "outputs": [
    {
     "name": "stdout",
     "output_type": "stream",
     "text": [
      "+--------------+\n",
      "|total_distance|\n",
      "+--------------+\n",
      "|  3.79052917E8|\n",
      "+--------------+\n",
      "\n"
     ]
    }
   ],
   "source": [
    "total_distance_df.show()"
   ]
  }
 ],
 "metadata": {
  "kernelspec": {
   "display_name": "Python 3 (ipykernel)",
   "language": "python",
   "name": "python3"
  },
  "language_info": {
   "codemirror_mode": {
    "name": "ipython",
    "version": 3
   },
   "file_extension": ".py",
   "mimetype": "text/x-python",
   "name": "python",
   "nbconvert_exporter": "python",
   "pygments_lexer": "ipython3",
   "version": "3.9.7"
  }
 },
 "nbformat": 4,
 "nbformat_minor": 5
}
